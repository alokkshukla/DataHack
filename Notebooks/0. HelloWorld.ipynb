{
 "cells": [
  {
   "cell_type": "markdown",
   "metadata": {
    "colab_type": "text",
    "id": "aStviQ8GY0GR",
    "slideshow": {
     "slide_type": "slide"
    }
   },
   "source": [
    "# Visual Storytelling with D3.js and Jupyter\n",
    "## Alok K. Shukla // DataHack Summit 2017\n",
    "#### Nov 10, 2017"
   ]
  },
  {
   "cell_type": "markdown",
   "metadata": {
    "colab_type": "text",
    "id": "OLDiSdkiY0GS",
    "slideshow": {
     "slide_type": "slide"
    }
   },
   "source": [
    "# Part 1 : Hello World!\n",
    "We will setup `d3` for Jupyter and make our first complete `d3` viz."
   ]
  },
  {
   "cell_type": "markdown",
   "metadata": {
    "colab_type": "text",
    "id": "Zkj87PrzY0GU",
    "slideshow": {
     "slide_type": "slide"
    }
   },
   "source": [
    "## Load d3 for Jupyter\n",
    "Muliple ways of doing so - `<script src=\"\"></script>` works for v3.\n",
    "\n",
    "`require.js` for v4."
   ]
  },
  {
   "cell_type": "code",
   "execution_count": null,
   "metadata": {
    "colab": {
     "autoexec": {
      "startup": false,
      "wait_interval": 0
     },
     "base_uri": "https://localhost:8080/",
     "height": 17,
     "output_extras": [
      {
       "item_id": 1
      }
     ]
    },
    "colab_type": "code",
    "executionInfo": {
     "elapsed": 1055,
     "status": "ok",
     "timestamp": 1509486191655,
     "user": {
      "displayName": "Alok Shukla",
      "photoUrl": "https://lh3.googleusercontent.com/a/default-user=s128",
      "userId": "109158215670110985703"
     },
     "user_tz": -330
    },
    "id": "DSukYS2QY0GV",
    "outputId": "24bcee83-79a4-4719-b569-b2bf67122020",
    "slideshow": {
     "slide_type": "subslide"
    }
   },
   "outputs": [],
   "source": [
    "%%javascript\n",
    "requirejs.config({\n",
    "    paths: { \n",
    "        'd3': ['//d3js.org/d3.v4.min'], \n",
    "                                               \n",
    "    },\n",
    "});\n",
    "\n",
    "require(['d3'], function(d3) {  \n",
    "    window.d3=d3\n",
    "});"
   ]
  },
  {
   "cell_type": "markdown",
   "metadata": {
    "slideshow": {
     "slide_type": "slide"
    }
   },
   "source": [
    "## Hello! from D3"
   ]
  },
  {
   "cell_type": "markdown",
   "metadata": {
    "slideshow": {
     "slide_type": "slide"
    }
   },
   "source": [
    "### HTML Boilerplate"
   ]
  },
  {
   "cell_type": "code",
   "execution_count": 4,
   "metadata": {
    "colab": {
     "autoexec": {
      "startup": false,
      "wait_interval": 0
     },
     "base_uri": "https://localhost:8080/",
     "height": 17,
     "output_extras": [
      {
       "item_id": 1
      }
     ]
    },
    "colab_type": "code",
    "executionInfo": {
     "elapsed": 888,
     "status": "ok",
     "timestamp": 1509486201739,
     "user": {
      "displayName": "Alok Shukla",
      "photoUrl": "https://lh3.googleusercontent.com/a/default-user=s128",
      "userId": "109158215670110985703"
     },
     "user_tz": -330
    },
    "id": "H5tlkJA8Y0Ge",
    "outputId": "a2e874c0-46ec-4e76-9a67-d1294c7f9153",
    "slideshow": {
     "slide_type": "subslide"
    }
   },
   "outputs": [
    {
     "data": {
      "text/html": [
       "<body>\n",
       "<div id=\"vizcontainer\">\n",
       "<svg style=\"width:1000px;height:180px;border:1px lightgray solid;\" />\n",
       "</div>\n",
       "</body>"
      ],
      "text/plain": [
       "<IPython.core.display.HTML object>"
      ]
     },
     "metadata": {},
     "output_type": "display_data"
    }
   ],
   "source": [
    "%%html\n",
    "<body>\n",
    "<div id=\"vizcontainer\">\n",
    "<svg style=\"width:1000px;height:180px;border:1px lightgray solid;\" />\n",
    "</div>\n",
    "</body>\n"
   ]
  },
  {
   "cell_type": "markdown",
   "metadata": {
    "colab_type": "text",
    "id": "3z7hQFa2Y0Gm",
    "slideshow": {
     "slide_type": "slide"
    }
   },
   "source": [
    "### Some SVG Fun!"
   ]
  },
  {
   "cell_type": "code",
   "execution_count": 5,
   "metadata": {
    "slideshow": {
     "slide_type": "subslide"
    }
   },
   "outputs": [
    {
     "data": {
      "application/javascript": [
       "\n",
       "d3.select(\"svg\") \n",
       ".append(\"circle\") \n",
       ".attr(\"r\", 20) \n",
       ".attr(\"cx\",100) \n",
       ".attr(\"cy\",20) \n",
       ".style(\"fill\",\"red\"); \n",
       "\n",
       "d3.select(\"svg\") \n",
       ".append(\"text\") \n",
       ".attr(\"id\", \"a\") \n",
       ".attr(\"x\",100) \n",
       ".attr(\"y\",40) \n",
       ".style(\"opacity\", 0) \n",
       ".text(\"Hello!\");"
      ],
      "text/plain": [
       "<IPython.core.display.Javascript object>"
      ]
     },
     "metadata": {},
     "output_type": "display_data"
    }
   ],
   "source": [
    "%%javascript\n",
    "\n",
    "d3.select(\"svg\") \n",
    ".append(\"circle\") \n",
    ".attr(\"r\", 20) \n",
    ".attr(\"cx\",100) \n",
    ".attr(\"cy\",20) \n",
    ".style(\"fill\",\"red\"); \n",
    "\n",
    "d3.select(\"svg\") \n",
    ".append(\"text\") \n",
    ".attr(\"id\", \"a\") \n",
    ".attr(\"x\",100) \n",
    ".attr(\"y\",40) \n",
    ".style(\"opacity\", 0) \n",
    ".text(\"Hello!\");"
   ]
  },
  {
   "cell_type": "markdown",
   "metadata": {
    "slideshow": {
     "slide_type": "slide"
    }
   },
   "source": [
    "### Some more.."
   ]
  },
  {
   "cell_type": "code",
   "execution_count": 6,
   "metadata": {
    "slideshow": {
     "slide_type": "subslide"
    }
   },
   "outputs": [
    {
     "data": {
      "text/html": [
       "<script>\n",
       "d3.select(\"svg\") \n",
       ".append(\"circle\") \n",
       ".attr(\"r\", 50) \n",
       ".attr(\"cx\",870) \n",
       ".attr(\"cy\",100) \n",
       ".style(\"fill\",\"lightblue\"); \n",
       "\n",
       "d3.select(\"svg\") \n",
       ".append(\"text\") \n",
       ".attr(\"id\", \"b\") \n",
       ".attr(\"x\",870) \n",
       ".attr(\"y\",150) \n",
       ".style(\"opacity\", 0) \n",
       ".text(\"Uh, Hi!\"); \n",
       "\n",
       "d3.select(\"#a\").transition().delay(1000).style(\"opacity\", 1); \n",
       "d3.select(\"#b\").transition().delay(3000).style(\"opacity\", .75); \n",
       "d3.selectAll(\"circle\").transition().duration(2000).attr(\"cy\", 75);\n",
       "</script>"
      ],
      "text/plain": [
       "<IPython.core.display.HTML object>"
      ]
     },
     "metadata": {},
     "output_type": "display_data"
    }
   ],
   "source": [
    "%%html\n",
    "<script>\n",
    "d3.select(\"svg\") \n",
    ".append(\"circle\") \n",
    ".attr(\"r\", 50) \n",
    ".attr(\"cx\",870) \n",
    ".attr(\"cy\",100) \n",
    ".style(\"fill\",\"lightblue\"); \n",
    "\n",
    "d3.select(\"svg\") \n",
    ".append(\"text\") \n",
    ".attr(\"id\", \"b\") \n",
    ".attr(\"x\",870) \n",
    ".attr(\"y\",150) \n",
    ".style(\"opacity\", 0) \n",
    ".text(\"Uh, Hi!\"); \n",
    "\n",
    "d3.select(\"#a\").transition().delay(1000).style(\"opacity\", 1); \n",
    "d3.select(\"#b\").transition().delay(3000).style(\"opacity\", .75); \n",
    "d3.selectAll(\"circle\").transition().duration(2000).attr(\"cy\", 75);\n",
    "</script>"
   ]
  },
  {
   "cell_type": "code",
   "execution_count": null,
   "metadata": {
    "collapsed": true
   },
   "outputs": [],
   "source": []
  }
 ],
 "metadata": {
  "celltoolbar": "Slideshow",
  "colab": {
   "default_view": {},
   "name": "HelloWorld.ipynb",
   "provenance": [],
   "version": "0.3.2",
   "views": {}
  },
  "kernelspec": {
   "display_name": "Python 3",
   "language": "python",
   "name": "python3"
  },
  "language_info": {
   "codemirror_mode": {
    "name": "ipython",
    "version": 3
   },
   "file_extension": ".py",
   "mimetype": "text/x-python",
   "name": "python",
   "nbconvert_exporter": "python",
   "pygments_lexer": "ipython3",
   "version": "3.6.2"
  }
 },
 "nbformat": 4,
 "nbformat_minor": 1
}
