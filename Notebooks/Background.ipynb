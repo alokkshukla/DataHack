{
 "cells": [
  {
   "cell_type": "markdown",
   "metadata": {
    "slideshow": {
     "slide_type": "slide"
    }
   },
   "source": [
    "# Visual Storytelling with D3.js and Jupyter\n",
    "## Alok K. Shukla // DataHack Summit 2017\n",
    "#### Nov 10, 2017"
   ]
  },
  {
   "cell_type": "markdown",
   "metadata": {
    "slideshow": {
     "slide_type": "slide"
    }
   },
   "source": [
    "## Part 0 : Background"
   ]
  },
  {
   "cell_type": "markdown",
   "metadata": {
    "slideshow": {
     "slide_type": "slide"
    }
   },
   "source": [
    "### 1. Document Object Model\n",
    "\n",
    "- Programming interface for HTML and XML documents\n",
    "- Represents the document as nodes and objects\n",
    "- The HTML DOM is a standard for how to get, change, add, or delete HTML elements.\n"
   ]
  },
  {
   "cell_type": "code",
   "execution_count": 4,
   "metadata": {
    "slideshow": {
     "slide_type": "subslide"
    }
   },
   "outputs": [
    {
     "data": {
      "text/html": [
       "\n",
       "<body>\n",
       "\n",
       "<p id=\"demo\"></p>\n",
       "\n",
       "<script>\n",
       "document.getElementById(\"demo\").innerHTML = \"Hello World!\";\n",
       "</script>\n",
       "\n",
       "</body>"
      ],
      "text/plain": [
       "<IPython.core.display.HTML object>"
      ]
     },
     "metadata": {},
     "output_type": "display_data"
    }
   ],
   "source": [
    "%%html\n",
    "\n",
    "<body>\n",
    "\n",
    "<p id=\"demo\"></p>\n",
    "\n",
    "<script>\n",
    "document.getElementById(\"demo\").innerHTML = \"Hello World!\";\n",
    "</script>\n",
    "\n",
    "</body>"
   ]
  },
  {
   "cell_type": "markdown",
   "metadata": {
    "slideshow": {
     "slide_type": "slide"
    }
   },
   "source": [
    "### 2. Scalable Vector Graphics\n",
    "\n",
    "- Embedded in HTML using the `<svg>` tag\n",
    "- SVG tag needs width and height\n",
    "- Origin (0,0) is _upper_ left corner of canvas\n",
    "- Position items using  \n",
    "    - Tag attributes x,y\n",
    "    - Or group nodes `<g>`"
   ]
  },
  {
   "cell_type": "code",
   "execution_count": 5,
   "metadata": {
    "slideshow": {
     "slide_type": "subslide"
    }
   },
   "outputs": [
    {
     "data": {
      "text/html": [
       "\n",
       "<svg width=300 height=350>\n",
       "<rect x=50 y=50 width=100 height=200></rect> \n",
       "<g transform=\"translate(200,50)\">\n",
       "<rect width=100 height=200></rect> </g>\n",
       "</svg> "
      ],
      "text/plain": [
       "<IPython.core.display.HTML object>"
      ]
     },
     "metadata": {},
     "output_type": "display_data"
    }
   ],
   "source": [
    "%%html\n",
    "\n",
    "<svg width=300 height=350>\n",
    "<rect x=50 y=50 width=100 height=200></rect> \n",
    "<g transform=\"translate(200,50)\">\n",
    "<rect width=100 height=200></rect> </g>\n",
    "</svg> \n"
   ]
  },
  {
   "cell_type": "markdown",
   "metadata": {
    "slideshow": {
     "slide_type": "slide"
    }
   },
   "source": [
    "### 3. CSS Selectors\n",
    "- Define the elements to which a set of CSS rules apply.\n",
    "- By `class`,`id`,`attr` or combination \n",
    "- d3 uses these to select document elements to be transformed into viz"
   ]
  },
  {
   "cell_type": "code",
   "execution_count": 6,
   "metadata": {
    "slideshow": {
     "slide_type": "subslide"
    }
   },
   "outputs": [
    {
     "data": {
      "text/html": [
       "<head>\n",
       "<script src=\"lib/d3.min.js\"></script>\n",
       "</head>\n",
       "<body>\n",
       "      <div id=\"example\">\n",
       "        <svg width=\"100\" height=\"100\">\n",
       "          <circle id = \"myCircle\" cx=\"50\" cy=\"50\" r=\"30\" ></circle>\n",
       "        </svg>\n",
       "      </div>\n",
       "      <script type=\"text/javascript\">\n",
       "        var circleDemo = d3.select(\"#myCircle\");\n",
       "          circleDemo.attr(\"r\", 40);\n",
       "          circleDemo.style(\"stroke\", \"black\");\n",
       "          circleDemo.style(\"fill\", \"orange\");    \n",
       "      </script>\n",
       "</body>"
      ],
      "text/plain": [
       "<IPython.core.display.HTML object>"
      ]
     },
     "metadata": {},
     "output_type": "display_data"
    }
   ],
   "source": [
    "%%html\n",
    "<head>\n",
    "<script src=\"lib/d3.min.js\"></script>\n",
    "</head>\n",
    "<body>\n",
    "      <div id=\"example\">\n",
    "        <svg width=\"100\" height=\"100\">\n",
    "          <circle id = \"myCircle\" cx=\"50\" cy=\"50\" r=\"30\" ></circle>\n",
    "        </svg>\n",
    "      </div>\n",
    "      <script type=\"text/javascript\">\n",
    "        var circleDemo = d3.select(\"#myCircle\");\n",
    "          circleDemo.attr(\"r\", 40);\n",
    "          circleDemo.style(\"stroke\", \"black\");\n",
    "          circleDemo.style(\"fill\", \"orange\");    \n",
    "      </script>\n",
    "</body>"
   ]
  },
  {
   "cell_type": "code",
   "execution_count": null,
   "metadata": {
    "collapsed": true
   },
   "outputs": [],
   "source": []
  }
 ],
 "metadata": {
  "celltoolbar": "Slideshow",
  "kernelspec": {
   "display_name": "Python 3",
   "language": "python",
   "name": "python3"
  },
  "language_info": {
   "codemirror_mode": {
    "name": "ipython",
    "version": 3
   },
   "file_extension": ".py",
   "mimetype": "text/x-python",
   "name": "python",
   "nbconvert_exporter": "python",
   "pygments_lexer": "ipython3",
   "version": "3.6.2"
  }
 },
 "nbformat": 4,
 "nbformat_minor": 2
}
