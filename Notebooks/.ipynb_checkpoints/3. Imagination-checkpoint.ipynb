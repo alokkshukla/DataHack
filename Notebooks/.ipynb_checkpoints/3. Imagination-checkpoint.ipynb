{
 "cells": [
  {
   "cell_type": "markdown",
   "metadata": {},
   "source": [
    "# Visual Storytelling with D3.js and Jupyter\n",
    "## Alok K. Shukla // DataHack Summit 2017\n",
    "#### Nov 10, 2017"
   ]
  },
  {
   "cell_type": "markdown",
   "metadata": {},
   "source": [
    "## Part 4 : Randomized Sketch"
   ]
  },
  {
   "cell_type": "markdown",
   "metadata": {},
   "source": [
    "This is where we let our imagination run wild."
   ]
  },
  {
   "cell_type": "markdown",
   "metadata": {},
   "source": [
    "## Initial Config"
   ]
  },
  {
   "cell_type": "code",
   "execution_count": 1,
   "metadata": {},
   "outputs": [
    {
     "data": {
      "application/javascript": [
       "requirejs.config({\n",
       "    paths: { \n",
       "        'd3': ['//d3js.org/d3.v4.min'], \n",
       "                                               \n",
       "    },\n",
       "});\n",
       "\n",
       "require(['d3'], function(d3) {  \n",
       "    window.d3=d3\n",
       "});"
      ],
      "text/plain": [
       "<IPython.core.display.Javascript object>"
      ]
     },
     "metadata": {},
     "output_type": "display_data"
    }
   ],
   "source": [
    "%%javascript\n",
    "requirejs.config({\n",
    "    paths: { \n",
    "        'd3': ['//d3js.org/d3.v4.min'], \n",
    "                                               \n",
    "    },\n",
    "});\n",
    "\n",
    "require(['d3'], function(d3) {  \n",
    "    window.d3=d3\n",
    "});"
   ]
  },
  {
   "cell_type": "markdown",
   "metadata": {},
   "source": [
    "### Get SVG\n",
    "Use `AI` or any other tool.\n",
    "http://editor.method.ac"
   ]
  },
  {
   "cell_type": "code",
   "execution_count": 2,
   "metadata": {},
   "outputs": [
    {
     "data": {
      "text/html": [
       "<svg width=\"580\" height=\"400\" xmlns=\"http://www.w3.org/2000/svg\">\n",
       " <!-- Created with Method Draw - http://github.com/duopixel/Method-Draw/ -->\n",
       " <g>\n",
       "  <title>background</title>\n",
       "  <rect fill=\"#fff\" id=\"canvas_background\" height=\"402\" width=\"582\" y=\"-1\" x=\"-1\"/>\n",
       "  <g display=\"none\" overflow=\"visible\" y=\"0\" x=\"0\" height=\"100%\" width=\"100%\" id=\"canvasGrid\">\n",
       "   <rect fill=\"url(#gridpattern)\" stroke-width=\"0\" y=\"0\" x=\"0\" height=\"100%\" width=\"100%\"/>\n",
       "  </g>\n",
       " </g>\n",
       " <g>\n",
       "  <title>Layer 1</title>\n",
       "  <rect id=\"svg_1\" height=\"117\" width=\"169\" y=\"52\" x=\"54.5\" stroke-width=\"1.5\" stroke=\"#000\" fill=\"#fff\"/>\n",
       "  <ellipse ry=\"43.5\" rx=\"34.5\" id=\"svg_2\" cy=\"122.5\" cx=\"336\" stroke-width=\"1.5\" stroke=\"#000\" fill=\"#fff\"/>\n",
       "  <ellipse ry=\"28\" rx=\"25\" id=\"svg_3\" cy=\"204\" cx=\"472.5\" stroke-width=\"1.5\" stroke=\"#000\" fill=\"#fff\"/>\n",
       "  <ellipse ry=\"25.5\" rx=\"23.5\" id=\"svg_4\" cy=\"240.5\" cx=\"171\" stroke-width=\"1.5\" stroke=\"#000\" fill=\"#fff\"/>\n",
       "  <path id=\"svg_5\" d=\"m286.067505,252.909821l35.522095,0l10.977905,-48.892578l10.977905,48.892578l35.522095,0l-28.738953,30.216797l10.977905,48.890625l-28.738953,-30.217163l-28.738953,30.217163l10.977905,-48.890625l-28.738953,-30.216797l0,0z\" stroke-width=\"1.5\" stroke=\"#000\" fill=\"#fff\"/>\n",
       " </g>\n",
       "</svg>\n"
      ],
      "text/plain": [
       "<IPython.core.display.HTML object>"
      ]
     },
     "metadata": {},
     "output_type": "display_data"
    }
   ],
   "source": [
    "%%html\n",
    "<svg width=\"580\" height=\"400\" xmlns=\"http://www.w3.org/2000/svg\">\n",
    " <!-- Created with Method Draw - http://github.com/duopixel/Method-Draw/ -->\n",
    " <g>\n",
    "  <title>background</title>\n",
    "  <rect fill=\"#fff\" id=\"canvas_background\" height=\"402\" width=\"582\" y=\"-1\" x=\"-1\"/>\n",
    "  <g display=\"none\" overflow=\"visible\" y=\"0\" x=\"0\" height=\"100%\" width=\"100%\" id=\"canvasGrid\">\n",
    "   <rect fill=\"url(#gridpattern)\" stroke-width=\"0\" y=\"0\" x=\"0\" height=\"100%\" width=\"100%\"/>\n",
    "  </g>\n",
    " </g>\n",
    " <g>\n",
    "  <title>Layer 1</title>\n",
    "  <rect id=\"svg_1\" height=\"117\" width=\"169\" y=\"52\" x=\"54.5\" stroke-width=\"1.5\" stroke=\"#000\" fill=\"#fff\"/>\n",
    "  <ellipse ry=\"43.5\" rx=\"34.5\" id=\"svg_2\" cy=\"122.5\" cx=\"336\" stroke-width=\"1.5\" stroke=\"#000\" fill=\"#fff\"/>\n",
    "  <ellipse ry=\"28\" rx=\"25\" id=\"svg_3\" cy=\"204\" cx=\"472.5\" stroke-width=\"1.5\" stroke=\"#000\" fill=\"#fff\"/>\n",
    "  <ellipse ry=\"25.5\" rx=\"23.5\" id=\"svg_4\" cy=\"240.5\" cx=\"171\" stroke-width=\"1.5\" stroke=\"#000\" fill=\"#fff\"/>\n",
    "  <path id=\"svg_5\" d=\"m286.067505,252.909821l35.522095,0l10.977905,-48.892578l10.977905,48.892578l35.522095,0l-28.738953,30.216797l10.977905,48.890625l-28.738953,-30.217163l-28.738953,30.217163l10.977905,-48.890625l-28.738953,-30.216797l0,0z\" stroke-width=\"1.5\" stroke=\"#000\" fill=\"#fff\"/>\n",
    " </g>\n",
    "</svg>\n",
    "\n"
   ]
  },
  {
   "cell_type": "markdown",
   "metadata": {},
   "source": [
    "## D3 Magic"
   ]
  },
  {
   "cell_type": "code",
   "execution_count": 3,
   "metadata": {},
   "outputs": [
    {
     "data": {
      "text/html": [
       "<script>\n",
       "d3.select(\"svg\").selectAll(\"ellipse\")\n",
       "    .transition(1000)\n",
       "    .attr(\"fill\", \"purple\");\n",
       "</script>"
      ],
      "text/plain": [
       "<IPython.core.display.HTML object>"
      ]
     },
     "metadata": {},
     "output_type": "display_data"
    }
   ],
   "source": [
    "%%html\n",
    "<script>\n",
    "d3.select(\"svg\").selectAll(\"ellipse\")\n",
    "    .transition(1000)\n",
    "    .attr(\"fill\", \"purple\");\n",
    "</script>"
   ]
  }
 ],
 "metadata": {
  "kernelspec": {
   "display_name": "Python 3",
   "language": "python",
   "name": "python3"
  },
  "language_info": {
   "codemirror_mode": {
    "name": "ipython",
    "version": 3
   },
   "file_extension": ".py",
   "mimetype": "text/x-python",
   "name": "python",
   "nbconvert_exporter": "python",
   "pygments_lexer": "ipython3",
   "version": "3.6.2"
  }
 },
 "nbformat": 4,
 "nbformat_minor": 2
}
