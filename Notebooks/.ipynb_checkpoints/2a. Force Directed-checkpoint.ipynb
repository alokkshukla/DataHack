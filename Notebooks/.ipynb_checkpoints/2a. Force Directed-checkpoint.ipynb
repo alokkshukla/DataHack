{
 "cells": [
  {
   "cell_type": "markdown",
   "metadata": {
    "colab_type": "text",
    "id": "ufV9_VUG8F9H"
   },
   "source": [
    "# Visual Storytelling with D3.js and Jupyter\n",
    "## Alok K. Shukla // DataHack Summit 2017\n",
    "#### Nov 10, 2017"
   ]
  },
  {
   "cell_type": "markdown",
   "metadata": {
    "colab_type": "text",
    "id": "BujnRaj88F9K"
   },
   "source": [
    "# Part 3b : Re-using a Block - Advanced"
   ]
  },
  {
   "cell_type": "markdown",
   "metadata": {
    "colab_type": "text",
    "id": "EUpapZDN8F9L"
   },
   "source": [
    "Using this [bl.ocks example](http://blockbuilder.org/mbostock/95aa92e2f4e8345aaa55a4a94d41ce37) as a template."
   ]
  },
  {
   "cell_type": "markdown",
   "metadata": {
    "colab_type": "text",
    "id": "3haj4DdG8F9M"
   },
   "source": [
    "### Initial Config"
   ]
  },
  {
   "cell_type": "code",
   "execution_count": 1,
   "metadata": {
    "colab": {
     "autoexec": {
      "startup": false,
      "wait_interval": 0
     }
    },
    "colab_type": "code",
    "collapsed": true,
    "id": "sv1PDVtC8F9P"
   },
   "outputs": [],
   "source": [
    "from IPython.core.display import display, HTML\n",
    "from string import Template\n",
    "import json, random"
   ]
  },
  {
   "cell_type": "code",
   "execution_count": 2,
   "metadata": {
    "colab": {
     "autoexec": {
      "startup": false,
      "wait_interval": 0
     },
     "base_uri": "https://localhost:8080/",
     "height": 17,
     "output_extras": [
      {
       "item_id": 1
      }
     ]
    },
    "colab_type": "code",
    "executionInfo": {
     "elapsed": 1032,
     "status": "ok",
     "timestamp": 1509495443619,
     "user": {
      "displayName": "Alok Shukla",
      "photoUrl": "https://lh3.googleusercontent.com/a/default-user=s128",
      "userId": "109158215670110985703"
     },
     "user_tz": -330
    },
    "id": "hUe9zn3e8F9a",
    "outputId": "cf7748ee-6463-429c-cf8e-db68d550324c"
   },
   "outputs": [
    {
     "data": {
      "application/javascript": [
       "requirejs.config({\n",
       "    paths: { \n",
       "        'd3': ['//d3js.org/d3.v4.min'], \n",
       "                                               \n",
       "    },\n",
       "});\n",
       "\n",
       "require(['d3'], function(d3) {  \n",
       "    window.d3=d3\n",
       "});"
      ],
      "text/plain": [
       "<IPython.core.display.Javascript object>"
      ]
     },
     "metadata": {},
     "output_type": "display_data"
    }
   ],
   "source": [
    "%%javascript\n",
    "requirejs.config({\n",
    "    paths: { \n",
    "        'd3': ['//d3js.org/d3.v4.min'], \n",
    "                                               \n",
    "    },\n",
    "});\n",
    "\n",
    "require(['d3'], function(d3) {  \n",
    "    window.d3=d3\n",
    "});"
   ]
  },
  {
   "cell_type": "markdown",
   "metadata": {
    "colab_type": "text",
    "id": "i6TyaOyY8F9i"
   },
   "source": [
    "## CSS and JS"
   ]
  },
  {
   "cell_type": "markdown",
   "metadata": {
    "colab_type": "text",
    "id": "dgAvA1a38F9j"
   },
   "source": [
    "Based on the blocks example."
   ]
  },
  {
   "cell_type": "code",
   "execution_count": 3,
   "metadata": {
    "colab": {
     "autoexec": {
      "startup": false,
      "wait_interval": 0
     }
    },
    "colab_type": "code",
    "collapsed": true,
    "id": "e560liJ_8F9k"
   },
   "outputs": [],
   "source": [
    "css_text = '''\n",
    "body {\n",
    "  font: 10px sans-serif;\n",
    "}\n",
    "'''"
   ]
  },
  {
   "cell_type": "code",
   "execution_count": 4,
   "metadata": {
    "colab": {
     "autoexec": {
      "startup": false,
      "wait_interval": 0
     }
    },
    "colab_type": "code",
    "collapsed": true,
    "id": "HKbQsCaX8F9q"
   },
   "outputs": [],
   "source": [
    "js_text_template = Template('''\n",
    "var nodes = d3.range(1000).map(function(i) {\n",
    "  return {\n",
    "    index: i\n",
    "  };\n",
    "});\n",
    "\n",
    "var links = d3.range(nodes.length - 1).map(function(i) {\n",
    "  return {\n",
    "    source: Math.floor(Math.sqrt(i)),\n",
    "    target: i + 1\n",
    "  };\n",
    "});\n",
    "\n",
    "var simulation = d3.forceSimulation(nodes)\n",
    "    .force(\"charge\", d3.forceManyBody())\n",
    "    .force(\"link\", d3.forceLink(links).distance(20).strength(1))\n",
    "    .force(\"x\", d3.forceX())\n",
    "    .force(\"y\", d3.forceY())\n",
    "    .on(\"tick\", ticked);\n",
    "\n",
    "var canvas = document.querySelector(\"canvas\"),\n",
    "    context = canvas.getContext(\"2d\"),\n",
    "    width = canvas.width,\n",
    "    height = canvas.height;\n",
    "\n",
    "d3.select(canvas)\n",
    "    .call(d3.drag()\n",
    "        .container(canvas)\n",
    "        .subject(dragsubject)\n",
    "        .on(\"start\", dragstarted)\n",
    "        .on(\"drag\", dragged)\n",
    "        .on(\"end\", dragended));\n",
    "\n",
    "function ticked() {\n",
    "  context.clearRect(0, 0, width, height);\n",
    "  context.save();\n",
    "  context.translate(width / 2, height / 2);\n",
    "\n",
    "  context.beginPath();\n",
    "  links.forEach(drawLink);\n",
    "  context.strokeStyle = \"#aaa\";\n",
    "  context.stroke();\n",
    "\n",
    "  context.beginPath();\n",
    "  nodes.forEach(drawNode);\n",
    "  context.fill();\n",
    "  context.strokeStyle = \"#fff\";\n",
    "  context.stroke();\n",
    "\n",
    "  context.restore();\n",
    "}\n",
    "\n",
    "function dragsubject() {\n",
    "  return simulation.find(d3.event.x - width / 2, d3.event.y - height / 2);\n",
    "}\n",
    "\n",
    "function dragstarted() {\n",
    "  if (!d3.event.active) simulation.alphaTarget(0.3).restart();\n",
    "  d3.event.subject.fx = d3.event.subject.x;\n",
    "  d3.event.subject.fy = d3.event.subject.y;\n",
    "}\n",
    "\n",
    "function dragged() {\n",
    "  d3.event.subject.fx = d3.event.x;\n",
    "  d3.event.subject.fy = d3.event.y;\n",
    "}\n",
    "\n",
    "function dragended() {\n",
    "  if (!d3.event.active) simulation.alphaTarget(0);\n",
    "  d3.event.subject.fx = null;\n",
    "  d3.event.subject.fy = null;\n",
    "}\n",
    "\n",
    "function drawLink(d) {\n",
    "  context.moveTo(d.source.x, d.source.y);\n",
    "  context.lineTo(d.target.x, d.target.y);\n",
    "}\n",
    "\n",
    "function drawNode(d) {\n",
    "  context.moveTo(d.x + 3, d.y);\n",
    "  context.arc(d.x, d.y, 3, 0, 2 * Math.PI);\n",
    "}\n",
    "\n",
    "'''\n",
    ")"
   ]
  },
  {
   "cell_type": "markdown",
   "metadata": {
    "colab_type": "text",
    "id": "3ZvrxQl78F9u"
   },
   "source": [
    "## The Plot"
   ]
  },
  {
   "cell_type": "code",
   "execution_count": 5,
   "metadata": {
    "colab": {
     "autoexec": {
      "startup": false,
      "wait_interval": 0
     },
     "base_uri": "https://localhost:8080/",
     "height": 389,
     "output_extras": [
      {
       "item_id": 1
      }
     ]
    },
    "colab_type": "code",
    "executionInfo": {
     "elapsed": 867,
     "status": "ok",
     "timestamp": 1509495615637,
     "user": {
      "displayName": "Alok Shukla",
      "photoUrl": "https://lh3.googleusercontent.com/a/default-user=s128",
      "userId": "109158215670110985703"
     },
     "user_tz": -330
    },
    "id": "Lq_wG4av8F9v",
    "outputId": "328dee62-bd99-4d20-9f8c-e02883d6014b"
   },
   "outputs": [
    {
     "data": {
      "text/html": [
       "\n",
       "<style> \n",
       "body {\n",
       "  font: 10px sans-serif;\n",
       "}\n",
       " </style>\n",
       "<canvas width=\"960\" height=\"350\"></canvas>\n",
       "<script> \n",
       "var nodes = d3.range(1000).map(function(i) {\n",
       "  return {\n",
       "    index: i\n",
       "  };\n",
       "});\n",
       "\n",
       "var links = d3.range(nodes.length - 1).map(function(i) {\n",
       "  return {\n",
       "    source: Math.floor(Math.sqrt(i)),\n",
       "    target: i + 1\n",
       "  };\n",
       "});\n",
       "\n",
       "var simulation = d3.forceSimulation(nodes)\n",
       "    .force(\"charge\", d3.forceManyBody())\n",
       "    .force(\"link\", d3.forceLink(links).distance(20).strength(1))\n",
       "    .force(\"x\", d3.forceX())\n",
       "    .force(\"y\", d3.forceY())\n",
       "    .on(\"tick\", ticked);\n",
       "\n",
       "var canvas = document.querySelector(\"canvas\"),\n",
       "    context = canvas.getContext(\"2d\"),\n",
       "    width = canvas.width,\n",
       "    height = canvas.height;\n",
       "\n",
       "d3.select(canvas)\n",
       "    .call(d3.drag()\n",
       "        .container(canvas)\n",
       "        .subject(dragsubject)\n",
       "        .on(\"start\", dragstarted)\n",
       "        .on(\"drag\", dragged)\n",
       "        .on(\"end\", dragended));\n",
       "\n",
       "function ticked() {\n",
       "  context.clearRect(0, 0, width, height);\n",
       "  context.save();\n",
       "  context.translate(width / 2, height / 2);\n",
       "\n",
       "  context.beginPath();\n",
       "  links.forEach(drawLink);\n",
       "  context.strokeStyle = \"#aaa\";\n",
       "  context.stroke();\n",
       "\n",
       "  context.beginPath();\n",
       "  nodes.forEach(drawNode);\n",
       "  context.fill();\n",
       "  context.strokeStyle = \"#fff\";\n",
       "  context.stroke();\n",
       "\n",
       "  context.restore();\n",
       "}\n",
       "\n",
       "function dragsubject() {\n",
       "  return simulation.find(d3.event.x - width / 2, d3.event.y - height / 2);\n",
       "}\n",
       "\n",
       "function dragstarted() {\n",
       "  if (!d3.event.active) simulation.alphaTarget(0.3).restart();\n",
       "  d3.event.subject.fx = d3.event.subject.x;\n",
       "  d3.event.subject.fy = d3.event.subject.y;\n",
       "}\n",
       "\n",
       "function dragged() {\n",
       "  d3.event.subject.fx = d3.event.x;\n",
       "  d3.event.subject.fy = d3.event.y;\n",
       "}\n",
       "\n",
       "function dragended() {\n",
       "  if (!d3.event.active) simulation.alphaTarget(0);\n",
       "  d3.event.subject.fx = null;\n",
       "  d3.event.subject.fy = null;\n",
       "}\n",
       "\n",
       "function drawLink(d) {\n",
       "  context.moveTo(d.source.x, d.source.y);\n",
       "  context.lineTo(d.target.x, d.target.y);\n",
       "}\n",
       "\n",
       "function drawNode(d) {\n",
       "  context.moveTo(d.x + 3, d.y);\n",
       "  context.arc(d.x, d.y, 3, 0, 2 * Math.PI);\n",
       "}\n",
       "\n",
       " </script>\n"
      ],
      "text/plain": [
       "<IPython.core.display.HTML object>"
      ]
     },
     "execution_count": 5,
     "metadata": {},
     "output_type": "execute_result"
    }
   ],
   "source": [
    "html_template = Template('''\n",
    "<style> $css_text </style>\n",
    "<canvas width=\"960\" height=\"350\"></canvas>\n",
    "<script> $js_text </script>\n",
    "''')\n",
    "js_text = js_text_template.substitute({'graphdiv': 'graph-div'})\n",
    "HTML(html_template.substitute({'css_text': css_text, 'js_text': js_text}))"
   ]
  },
  {
   "cell_type": "code",
   "execution_count": null,
   "metadata": {
    "colab": {
     "autoexec": {
      "startup": false,
      "wait_interval": 0
     }
    },
    "colab_type": "code",
    "collapsed": true,
    "id": "O8aEeMcv8oG1"
   },
   "outputs": [],
   "source": []
  }
 ],
 "metadata": {
  "colab": {
   "collapsed_sections": [],
   "default_view": {},
   "name": "2a. Force Directed.ipynb",
   "provenance": [],
   "version": "0.3.2",
   "views": {}
  },
  "kernelspec": {
   "display_name": "Python 3",
   "language": "python",
   "name": "python3"
  },
  "language_info": {
   "codemirror_mode": {
    "name": "ipython",
    "version": 3
   },
   "file_extension": ".py",
   "mimetype": "text/x-python",
   "name": "python",
   "nbconvert_exporter": "python",
   "pygments_lexer": "ipython3",
   "version": "3.6.2"
  }
 },
 "nbformat": 4,
 "nbformat_minor": 1
}
