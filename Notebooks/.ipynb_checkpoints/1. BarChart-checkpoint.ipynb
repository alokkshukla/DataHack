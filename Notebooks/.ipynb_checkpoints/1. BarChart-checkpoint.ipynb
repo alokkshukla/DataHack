{
 "cells": [
  {
   "cell_type": "markdown",
   "metadata": {},
   "source": [
    "# Visual Storytelling with D3.js and Jupyter\n",
    "## Alok K. Shukla // DataHack Summit 2017\n",
    "#### Nov 10, 2017"
   ]
  },
  {
   "cell_type": "markdown",
   "metadata": {},
   "source": [
    "# Part 2 : SVG Fun - A Simple Bar Chart"
   ]
  },
  {
   "cell_type": "markdown",
   "metadata": {},
   "source": [
    "## Notebook Config"
   ]
  },
  {
   "cell_type": "code",
   "execution_count": 1,
   "metadata": {
    "collapsed": true
   },
   "outputs": [],
   "source": [
    "from IPython.core.display import display, HTML\n",
    "from string import Template\n",
    "import pandas as pd\n",
    "import json, random"
   ]
  },
  {
   "cell_type": "code",
   "execution_count": 2,
   "metadata": {},
   "outputs": [
    {
     "data": {
      "application/javascript": [
       "requirejs.config({\n",
       "    paths: { \n",
       "        'd3': ['//d3js.org/d3.v4.min'], \n",
       "                                               \n",
       "    },\n",
       "});\n",
       "\n",
       "require(['d3'], function(d3) {  \n",
       "    window.d3=d3\n",
       "});"
      ],
      "text/plain": [
       "<IPython.core.display.Javascript object>"
      ]
     },
     "metadata": {},
     "output_type": "display_data"
    }
   ],
   "source": [
    "%%javascript\n",
    "requirejs.config({\n",
    "    paths: { \n",
    "        'd3': ['//d3js.org/d3.v4.min'], \n",
    "                                               \n",
    "    },\n",
    "});\n",
    "\n",
    "require(['d3'], function(d3) {  \n",
    "    window.d3=d3\n",
    "});"
   ]
  },
  {
   "cell_type": "markdown",
   "metadata": {},
   "source": [
    "## All of the JS"
   ]
  },
  {
   "cell_type": "code",
   "execution_count": 3,
   "metadata": {
    "collapsed": true
   },
   "outputs": [],
   "source": [
    "js_text_template = Template('''\n",
    "    var h = 350;\n",
    "    var w = 960;\n",
    "    var barPadding = 1;\n",
    "    var dataset = [];                         //Initialize empty array\n",
    "    for (var i = 0; i < 25; i++) {            //Loop 25 times\n",
    "        var newNumber = Math.floor(Math.random() * 200);   //New random number \n",
    "        dataset.push(newNumber);              //Add new number to array\n",
    "    }\n",
    "    var svg = d3.select(\"#$graphdiv\")\n",
    "        .append(\"svg\")\n",
    "        .attr(\"height\", h)\n",
    "        .attr(\"width\", w);\n",
    "    \n",
    "    var rects = svg.selectAll(\"rect\")\n",
    "        .data(dataset)\n",
    "        .enter()\n",
    "        .append(\"rect\")\n",
    "        .attr(\"x\", function (d, i) {\n",
    "            return i * (w / dataset.length);\n",
    "        })\n",
    "        .attr(\"y\", function (d) {\n",
    "            return h - d;\n",
    "        })\n",
    "        .attr(\"height\", function (d) {\n",
    "            return d * 4;\n",
    "        })\n",
    "        .attr(\"width\", w / dataset.length - barPadding)\n",
    "        .attr(\"fill\", function (d, i) {\n",
    "            return \"rgb(\" + Math.round(d * i) + \",\" + Math.round(d + 20) + \", \" + Math.round(d * 10) + \")\";\n",
    "        });\n",
    "        \n",
    "    var labels = svg.selectAll(\"text\")\n",
    "        .data(dataset).enter()\n",
    "        .append(\"text\")\n",
    "        .text(function (d) {\n",
    "            return d;\n",
    "        })\n",
    "        .attr(\"x\", function (d, i) {\n",
    "            return i * (w / dataset.length) + (w / dataset.length - barPadding) / 2;\n",
    "        })\n",
    "        .attr(\"y\", function (d) {\n",
    "            return (h - d) + 14;\n",
    "        })\n",
    "        .attr(\"font-family\", \"sans-serif\")\n",
    "        .attr(\"font-size\", function (d) {\n",
    "            if ((d / 5) > 10) {\n",
    "                return 10;\n",
    "            } else {\n",
    "                return d / 5;\n",
    "            }\n",
    "        })\n",
    "        .attr(\"fill\", \"white\")\n",
    "        .attr(\"text-anchor\", \"middle\");\n",
    "        ''')"
   ]
  },
  {
   "cell_type": "markdown",
   "metadata": {},
   "source": [
    "## The Plot"
   ]
  },
  {
   "cell_type": "code",
   "execution_count": 4,
   "metadata": {},
   "outputs": [
    {
     "data": {
      "text/html": [
       "\n",
       "<div id=\"graph-div\"></div>\n",
       "<script> \n",
       "    var h = 350;\n",
       "    var w = 960;\n",
       "    var barPadding = 1;\n",
       "    var dataset = [];                         //Initialize empty array\n",
       "    for (var i = 0; i < 25; i++) {            //Loop 25 times\n",
       "        var newNumber = Math.floor(Math.random() * 200);   //New random number \n",
       "        dataset.push(newNumber);              //Add new number to array\n",
       "    }\n",
       "    var svg = d3.select(\"#graph-div\")\n",
       "        .append(\"svg\")\n",
       "        .attr(\"height\", h)\n",
       "        .attr(\"width\", w);\n",
       "    \n",
       "    var rects = svg.selectAll(\"rect\")\n",
       "        .data(dataset)\n",
       "        .enter()\n",
       "        .append(\"rect\")\n",
       "        .attr(\"x\", function (d, i) {\n",
       "            return i * (w / dataset.length);\n",
       "        })\n",
       "        .attr(\"y\", function (d) {\n",
       "            return h - d;\n",
       "        })\n",
       "        .attr(\"height\", function (d) {\n",
       "            return d * 4;\n",
       "        })\n",
       "        .attr(\"width\", w / dataset.length - barPadding)\n",
       "        .attr(\"fill\", function (d, i) {\n",
       "            return \"rgb(\" + Math.round(d * i) + \",\" + Math.round(d + 20) + \", \" + Math.round(d * 10) + \")\";\n",
       "        });\n",
       "        \n",
       "    var labels = svg.selectAll(\"text\")\n",
       "        .data(dataset).enter()\n",
       "        .append(\"text\")\n",
       "        .text(function (d) {\n",
       "            return d;\n",
       "        })\n",
       "        .attr(\"x\", function (d, i) {\n",
       "            return i * (w / dataset.length) + (w / dataset.length - barPadding) / 2;\n",
       "        })\n",
       "        .attr(\"y\", function (d) {\n",
       "            return (h - d) + 14;\n",
       "        })\n",
       "        .attr(\"font-family\", \"sans-serif\")\n",
       "        .attr(\"font-size\", function (d) {\n",
       "            if ((d / 5) > 10) {\n",
       "                return 10;\n",
       "            } else {\n",
       "                return d / 5;\n",
       "            }\n",
       "        })\n",
       "        .attr(\"fill\", \"white\")\n",
       "        .attr(\"text-anchor\", \"middle\");\n",
       "         </script>\n"
      ],
      "text/plain": [
       "<IPython.core.display.HTML object>"
      ]
     },
     "execution_count": 4,
     "metadata": {},
     "output_type": "execute_result"
    }
   ],
   "source": [
    "html_template = Template('''\n",
    "<div id=\"graph-div\"></div>\n",
    "<script> $js_text </script>\n",
    "''')\n",
    "js_text = js_text_template.substitute({'graphdiv': 'graph-div'})\n",
    "HTML(html_template.substitute({'js_text': js_text}))"
   ]
  },
  {
   "cell_type": "code",
   "execution_count": null,
   "metadata": {
    "collapsed": true
   },
   "outputs": [],
   "source": []
  }
 ],
 "metadata": {
  "kernelspec": {
   "display_name": "Python 3",
   "language": "python",
   "name": "python3"
  },
  "language_info": {
   "codemirror_mode": {
    "name": "ipython",
    "version": 3
   },
   "file_extension": ".py",
   "mimetype": "text/x-python",
   "name": "python",
   "nbconvert_exporter": "python",
   "pygments_lexer": "ipython3",
   "version": "3.6.2"
  }
 },
 "nbformat": 4,
 "nbformat_minor": 2
}
